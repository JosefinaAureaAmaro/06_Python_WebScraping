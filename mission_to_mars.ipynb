{
 "cells": [
  {
   "cell_type": "markdown",
   "metadata": {},
   "source": [
    "### Dependencies"
   ]
  },
  {
   "cell_type": "code",
   "execution_count": 19,
   "metadata": {},
   "outputs": [],
   "source": [
    "#Beautiful Soup\n",
    "from bs4 import BeautifulSoup\n",
    "\n",
    "#Pandas\n",
    "import pandas as pd\n",
    "\n",
    "#Splinter - Web Scrapping\n",
    "from splinter import Browser\n",
    "from splinter.exceptions import ElementDoesNotExist\n",
    "\n",
    "# data dependencies\n",
    "from datetime import datetime"
   ]
  },
  {
   "cell_type": "markdown",
   "metadata": {},
   "source": [
    "### To use splinter"
   ]
  },
  {
   "cell_type": "code",
   "execution_count": 2,
   "metadata": {},
   "outputs": [],
   "source": [
    "executable_path = {'executable_path': 'chromedriver.exe'}\n",
    "browser = Browser('chrome', **executable_path, headless=False)"
   ]
  },
  {
   "cell_type": "markdown",
   "metadata": {},
   "source": [
    "To use ChromeDriver I had to perform two actions: \n",
    "\n",
    "1. Extract the chromdriver.exe and place it in the same folder as my project\n",
    "2. Update the version of chrome I had to version of chromedriver.exe I downloaded "
   ]
  },
  {
   "cell_type": "markdown",
   "metadata": {},
   "source": [
    "Notes about selenium and splinter: \n",
    "\n",
    "Selenium allows you to loop through a website by element. \n",
    "It automates any manual input as well as coordinating through pages"
   ]
  },
  {
   "cell_type": "markdown",
   "metadata": {},
   "source": [
    "### Start to Webscrape with Splinter"
   ]
  },
  {
   "cell_type": "code",
   "execution_count": 3,
   "metadata": {},
   "outputs": [],
   "source": [
    "url = 'https://mars.nasa.gov/news/'\n",
    "browser.visit(url)"
   ]
  },
  {
   "cell_type": "code",
   "execution_count": 4,
   "metadata": {},
   "outputs": [],
   "source": [
    "html = browser.html\n",
    "soup = BeautifulSoup(html, 'html.parser')"
   ]
  },
  {
   "cell_type": "markdown",
   "metadata": {},
   "source": [
    "### NASA Mars News - Iterate Through Elements"
   ]
  },
  {
   "cell_type": "code",
   "execution_count": 5,
   "metadata": {},
   "outputs": [],
   "source": [
    "# we are starting at the upper container of the articles to iterate through\n",
    "\n",
    "# Retrive the parent divs for all articles\n",
    "article_results = soup.find_all('li', class_=\"slide\")\n"
   ]
  },
  {
   "cell_type": "code",
   "execution_count": 9,
   "metadata": {},
   "outputs": [
    {
     "name": "stdout",
     "output_type": "stream",
     "text": [
      "--------Titles-------\n",
      "['Small Satellite Mission of the Year', \"NASA 'Optometrists' Verify Mars 2020 Rover's 20/20 Vision\", 'New Finds for Mars Rover, Seven Years After Landing', 'MEDLI2 Installation on Mars 2020 Aeroshell Begins', \"NASA's Mars 2020 Rover Does Biceps Curls \", \"Fueling of NASA's Mars 2020 Rover Power System Begins\", 'What Does a Marsquake Look Like?', 'Mars 2020 Rover: T-Minus One Year and Counting ', 'NASA Racks Up Two Emmy Nominations for Mission Coverage', 'Want to Colonize Mars? Aerogel Could Help', 'A Rover Pit Stop at JPL', 'Mars 2020 Rover Gets a Super Instrument', 'A Neil Armstrong for Mars: Landing the Mars 2020 Rover', \"NASA's InSight Uncovers the 'Mole' \", \"Mars 2020 Rover's 7-Foot-Long Robotic Arm Installed\", \"NASA Selects Partners for Mars 2020 'Name the Rover' Contest, Seeks Judges\", \"Curiosity's Mars Methane Mystery Continues\", 'Mars 2020 Rover Gets Its Wheels', \"The Mast Is Raised for NASA's Mars 2020 Rover\", \"NASA's Mars 2020 Will Blaze a Trail — for Humans\", 'Johnson-Built Device to Help Mars 2020 Rover Search for Signs of Life', 'Watch NASA Build Its Next Mars Rover', \"NASA's Mars Helicopter Testing Enters Final Phase\", \"InSight's Team Tries New Strategy to Help the 'Mole'\", \"Common Questions about InSight's 'Mole'\", \"NASA's Curiosity Mars Rover Finds a Clay Cache\", 'NASA to Land in Mars, Pennsylvania to Celebrate Red Planet with STEAM', \"NASA's Mars 2020 Gets a Dose of Space Here on Earth\", 'NASA Invites Public to Submit Names to Fly Aboard Next Mars Rover', \"NASA's MRO Completes 60,000 Trips Around Mars\", 'Video: Fly over Mount Sharp on Mars', 'Why This Martian Full Moon Looks Like Candy', 'For InSight, Dust Cleanings Will Yield New Science', 'InSight Captures Sunrise and Sunset on Mars', 'NASA Social Media and Websites Win Webby Awards ', \"NASA's InSight Detects First Likely 'Quake' on Mars\", \"Things Are Stacking up for NASA's Mars 2020 Spacecraft\", \"Curiosity Tastes First Sample in 'Clay-Bearing Unit'\", \"More Testing for Mars InSight's 'Mole'\", 'NASA Garners 7 Webby Award Nominations']\n",
      "--Article Teaser Body--\n",
      "['The first interplanetary CubeSats were recognized by the engineering community with the 2019 Small Satellite Mission of the Year award.', 'Mars 2020 rover underwent an eye exam after several cameras were installed on the rover.', 'NASA\\'s Curiosity rover is discovering odd rocks halfway into a region called the \"clay-bearing unit.\"', \"Hardware installed onto NASA's Mars 2020 entry vehicle this week will help to increase the safety of future Mars landings.\", \"In this time-lapse video, the robotic arm on NASA's Mars 2020 rover maneuvers its 88-pound (40-kilogram) sensor-laden turret as it moves from a deployed to stowed configuration.\", \"NASA gives the go-ahead to fuel the Mars 2020 rover's Multi-Mission Radioisotope Thermoelectric Generator, which will power rover and help keep it warm while exploring Mars.\", 'InSight scientists used a special \"shake room\" to demonstrate the differences between quakes on Earth, the Moon and Mars.', \"The launch period for NASA's next rover, Mars 2020, opens exactly one year from today, July 17, 2020, and extends through Aug. 5, 2020.\", \"JPL's coverage of the Mars InSight mission is among the efforts that will be up for an award in mid-September.\", 'Researchers are studying whether a wonder material used in Mars rovers could help warm parts of the Red Planet rich in water ice.', \"Working like a finely honed machine, a team of engineers in this time-lapse video clip install test wheels on another finely honed machine: NASA's Mars 2020 rover.\", 'With its rock-zapping laser, the SuperCam will enable the science team to identify the chemical and mineral makeup of its targets on the Red Planet.', \"NASA's newest rover will have an autopilot called Terrain-Relative Navigation.\", \"The lander's robotic arm has successfully removed a piece of hardware blocking the view of its digging device in order to help with recovery efforts.\", \"The main robotic arm has been installed on NASA's newest rover. When complete, the arm will enable the rover to hold and use science tools like a human geologist would.\", 'The contest for U.S. schoolchildren will open in fall 2019, but judges can sign up now.', 'The Curiosity rover’s follow-on sampling shows last week’s methane levels have sharply decreased.', \"With the mobility suspension in place, the rover not only looks more like a rover but has many of its 'big-ticket items' installed.\", 'Engineers at JPL take a group selfie after attaching the remote sensing mast to the Mars 2020 rover.', 'The next robotic Mars mission will carry technology that will help enable astronauts to eventually explore the Red Planet.', 'NASA’s Johnson Space Center (JSC) recently built a new calibration device for the rover to check SHERLOC’s function and properly tune it during the upcoming mission.', \"A newly installed webcam offers the public a live, bird's-eye view of NASA's Mars 2020 rover as it takes shape at NASA's Jet Propulsion Laboratory. \", \"NASA's Mars Helicopter flight demonstration project has passed a number of key tests with flying colors.\", \"The spacecraft's robotic arm will lift the heat probe's support structure, providing a better look at the instrument that has been trying to burrow into the Martian surface.\", 'There\\'s a new plan to get InSight\\'s \"mole\" moving again. The following Q&As with two members of the team answer some of the most common questions about the burrowing device, part of a science instrument called the Heat Flow and Physical Properties Package (HP3).', 'The rover recently drilled two samples, and both showed the highest levels of clay ever found during the mission.', 'NASA returns to Mars, Pennsylvania Friday, May 31 to celebrate Mars exploration and share the agency’s excitement about landing astronauts on the Moon in five years.', \"NASA's Mars 2020 spacecraft has completed tests that are the best Earthly approximations of what the spacecraft will endure during launch and interplanetary cruise.\", 'From now till Sept. 30, the public can submit names to be stenciled on chips that will fly on the Mars 2020 rover and receive a souvenir boarding pass.', 'The orbiting spacecraft is also about to set a record for data relayed from the Martian surface.', \"A new animation shows the region NASA's Curiosity rover is currently exploring and where its team wants to go in the future.\", \"For the first time, NASA's Mars Odyssey orbiter has caught the Martian moon Phobos during a full moon phase. Each color in this new image represents a temperature range detected by Odyssey's infrared camera.\", 'Wind can be crucial to clearing dust from spacecraft solar panels on Mars. With InSight\\'s meteorological sensors, scientists get their first measurements of wind and dust interacting \"live\" on the Martian surface.  ', \"InSight joins the rest of NASA's Red Planet surface missions, all of which have photographed either the start or end of a Martian day.\", 'NASA\\'s social media presence, the InSight mission social media accounts, NASA.gov and SolarSystem.NASA.gov will be honored at the 2019 Webby Awards - \"the Oscars of the Internet.\"', 'While their causes are still unknown, one of three shaking events looks a lot like the quakes detected on the Moon by the Apollo missions.', 'As the July 2020 launch date inches closer, the next spacecraft headed to the Red Planet is assembled for more testing.', 'This new region on Mars might reveal more about the role of water on Mount Sharp.', \"After the mission's heat probe began hammering last week, it appears to have hit a rock. The team is analyzing data before they hammer again.\", 'Nominees include four JPL projects: the solar system and climate websites, InSight social media, and a 360-degree Earth video. Public voting closes April 18, 2019.']\n"
     ]
    }
   ],
   "source": [
    "# Loop through results to retrieve article title, header, and timestamp of article\n",
    "article_title = []\n",
    "article_headline = []\n",
    "\n",
    "\n",
    "## articles are posted in chronological order, with the latest articles at the top. \n",
    "## I want to stop the loop after 2018\n",
    "\n",
    "for results in article_results:\n",
    "    title = results.find(attrs={\"class\": \"content_title\"}).text\n",
    "    headline = results.find(attrs={\"class\": \"article_teaser_body\"}).text\n",
    "    date_of_article = results.find(attrs={\"class\": \"list_date\"}).text\n",
    "    \n",
    "    # to convert date of article to datetime object\n",
    "    date_object = datetime.strptime(date_of_article, '%B %d, %Y')\n",
    "\n",
    "        ## conditional loop to append articles\n",
    "        \n",
    "    if date_object.year == 2019:\n",
    "        article_title.append(title)\n",
    "        article_headline.append(headline)\n",
    "#browser.click_link_by_partial_text('More')\n",
    "        \n",
    "    #elif date_object.year == 2017:\n",
    "      #  print('Done')\n",
    "      #  break\n",
    "    \n",
    "        \n",
    "print('--------Titles-------')        \n",
    "print(article_title)\n",
    "print('--Article Teaser Body--')\n",
    "print(article_headline)\n",
    "    "
   ]
  },
  {
   "cell_type": "markdown",
   "metadata": {},
   "source": [
    "### JPL Mars Space Images - Parse CSS Style String"
   ]
  },
  {
   "cell_type": "markdown",
   "metadata": {},
   "source": [
    "### Start to Webscrape with Splinter"
   ]
  },
  {
   "cell_type": "code",
   "execution_count": 62,
   "metadata": {},
   "outputs": [],
   "source": [
    "## parse dependancies\n",
    "import re"
   ]
  },
  {
   "cell_type": "code",
   "execution_count": 12,
   "metadata": {},
   "outputs": [],
   "source": [
    "jpl_url = 'https://www.jpl.nasa.gov/spaceimages/?search=&category=Mars'\n",
    "browser.visit(jpl_url)"
   ]
  },
  {
   "cell_type": "code",
   "execution_count": 13,
   "metadata": {},
   "outputs": [],
   "source": [
    "html = browser.html\n",
    "soup = BeautifulSoup(html, 'html.parser')"
   ]
  },
  {
   "cell_type": "code",
   "execution_count": 63,
   "metadata": {},
   "outputs": [
    {
     "data": {
      "text/plain": [
       "\"background-image: url('/spaceimages/images/wallpaper/PIA19101-1920x1200.jpg');\""
      ]
     },
     "execution_count": 63,
     "metadata": {},
     "output_type": "execute_result"
    }
   ],
   "source": [
    "container_results = soup.find('article')['style']\n",
    "container_results"
   ]
  },
  {
   "cell_type": "code",
   "execution_count": 79,
   "metadata": {},
   "outputs": [
    {
     "data": {
      "text/plain": [
       "'/spaceimages/images/wallpaper/PIA19101-1920x1200.jpg'"
      ]
     },
     "execution_count": 79,
     "metadata": {},
     "output_type": "execute_result"
    }
   ],
   "source": [
    "image_url = re.findall(\"url\\('(.*?)'\\)\", container_results)\n",
    "image_url[0]"
   ]
  },
  {
   "cell_type": "code",
   "execution_count": 70,
   "metadata": {},
   "outputs": [],
   "source": [
    "#source_Parse CSS Style: https://stackoverflow.com/questions/9271365/how-to-pull-out-css-attributes-from-inline-styles-with-beautifulsoup"
   ]
  },
  {
   "cell_type": "code",
   "execution_count": 81,
   "metadata": {},
   "outputs": [
    {
     "data": {
      "text/plain": [
       "'https://www.jpl.nasa.gov/spaceimages/images/wallpaper/PIA19101-1920x1200.jpg'"
      ]
     },
     "execution_count": 81,
     "metadata": {},
     "output_type": "execute_result"
    }
   ],
   "source": [
    "base_url = 'https://www.jpl.nasa.gov'\n",
    "featured_image_url = base_url + image_url[0]\n",
    "featured_image_url"
   ]
  },
  {
   "cell_type": "markdown",
   "metadata": {},
   "source": [
    "### Mars Weather"
   ]
  },
  {
   "cell_type": "code",
   "execution_count": 82,
   "metadata": {},
   "outputs": [],
   "source": [
    "mars_twitter_url = 'https://twitter.com/marswxreport?lang=en'\n",
    "browser.visit(mars_twitter_url)"
   ]
  },
  {
   "cell_type": "code",
   "execution_count": 83,
   "metadata": {},
   "outputs": [],
   "source": [
    "html = browser.html\n",
    "soup = BeautifulSoup(html, 'html.parser')"
   ]
  },
  {
   "cell_type": "code",
   "execution_count": 86,
   "metadata": {},
   "outputs": [
    {
     "data": {
      "text/plain": [
       "'InSight sol 250 (2019-08-10) low -100.0ºC (-148.1ºF) high -26.2ºC (-15.1ºF)\\nwinds from the SSE at 4.4 m/s (9.8 mph) gusting to 16.2 m/s (36.2 mph)\\npressure at 7.60 hPapic.twitter.com/9sZRRUi3dm'"
      ]
     },
     "execution_count": 86,
     "metadata": {},
     "output_type": "execute_result"
    }
   ],
   "source": [
    "mars_weather = soup.find('p', {\"class\": \"tweet-text\"}).text\n",
    "mars_weather"
   ]
  },
  {
   "cell_type": "markdown",
   "metadata": {},
   "source": [
    "### Mars Facts - Convert HTML Table To Pandas"
   ]
  },
  {
   "cell_type": "code",
   "execution_count": 113,
   "metadata": {},
   "outputs": [],
   "source": [
    "mars_facts_url = 'https://space-facts.com/mars/'\n",
    "browser.visit(mars_facts_url)"
   ]
  },
  {
   "cell_type": "code",
   "execution_count": 114,
   "metadata": {},
   "outputs": [],
   "source": [
    "html = browser.html\n",
    "soup = BeautifulSoup(html, 'html.parser')"
   ]
  },
  {
   "cell_type": "code",
   "execution_count": 115,
   "metadata": {},
   "outputs": [],
   "source": [
    "# display html table as a pandas html string table\n",
    "from IPython.display import display_html\n",
    "import json"
   ]
  },
  {
   "cell_type": "code",
   "execution_count": 118,
   "metadata": {},
   "outputs": [
    {
     "data": {
      "text/plain": [
       "'<table class=\"tablepress tablepress-id-comp-mars blue-table\" id=\"tablepress-comp-mars\"><thead><tr class=\"row-1\"><th class=\"column-1\"><strong>Mars - Earth Comparison</strong></th><th class=\"column-2\"><span class=\"mars\">Mars</span></th><th class=\"column-3\"><span class=\"earth\">Earth</span></th></tr></thead><tbody><tr class=\"row-2\"><td class=\"column-1\">Diameter:</td><td class=\"column-2\"><span class=\"mars-s\">6,779 km</span></td><td class=\"column-3\"><span class=\"earth-s\">12,742 km</span></td></tr><tr class=\"row-3\"><td class=\"column-1\">Mass:</td><td class=\"column-2\"><span class=\"mars-s\">6.39 × 10^23 kg</span></td><td class=\"column-3\"><span class=\"earth-s\">5.97 × 10^24 kg</span></td></tr><tr class=\"row-4\"><td class=\"column-1\">Moons:</td><td class=\"column-2\"><span class=\"mars-s\">2</span></td><td class=\"column-3\"><span class=\"earth-s\">1</span></td></tr><tr class=\"row-5\"><td class=\"column-1\">Distance from Sun:</td><td class=\"column-2\"><span class=\"mars-s\">227,943,824 km</span></td><td class=\"column-3\"><span class=\"earth-s\">149,598,262 km</span></td></tr><tr class=\"row-6\"><td class=\"column-1\">Length of Year:</td><td class=\"column-2\"><span class=\"mars-s\">687 Earth days</span></td><td class=\"column-3\"><span class=\"earth-s\">365.24 days</span></td></tr><tr class=\"row-7\"><td class=\"column-1\">Temperature:</td><td class=\"column-2\"><span class=\"mars-s\">-153 to 20 °C</span></td><td class=\"column-3\"><span class=\"earth-s\">-88 to 58°C</span></td></tr></tbody></table>'"
      ]
     },
     "execution_count": 118,
     "metadata": {},
     "output_type": "execute_result"
    }
   ],
   "source": [
    "mars_facts = soup.find('table', {\"id\": \"tablepress-comp-mars\"})\n",
    "mars_facts_info = str(mars_facts)\n",
    "mars_facts_info"
   ]
  },
  {
   "cell_type": "code",
   "execution_count": 120,
   "metadata": {},
   "outputs": [
    {
     "data": {
      "text/html": [
       "<table class=\"tablepress tablepress-id-comp-mars blue-table\" id=\"tablepress-comp-mars\"><thead><tr class=\"row-1\"><th class=\"column-1\"><strong>Mars - Earth Comparison</strong></th><th class=\"column-2\"><span class=\"mars\">Mars</span></th><th class=\"column-3\"><span class=\"earth\">Earth</span></th></tr></thead><tbody><tr class=\"row-2\"><td class=\"column-1\">Diameter:</td><td class=\"column-2\"><span class=\"mars-s\">6,779 km</span></td><td class=\"column-3\"><span class=\"earth-s\">12,742 km</span></td></tr><tr class=\"row-3\"><td class=\"column-1\">Mass:</td><td class=\"column-2\"><span class=\"mars-s\">6.39 × 10^23 kg</span></td><td class=\"column-3\"><span class=\"earth-s\">5.97 × 10^24 kg</span></td></tr><tr class=\"row-4\"><td class=\"column-1\">Moons:</td><td class=\"column-2\"><span class=\"mars-s\">2</span></td><td class=\"column-3\"><span class=\"earth-s\">1</span></td></tr><tr class=\"row-5\"><td class=\"column-1\">Distance from Sun:</td><td class=\"column-2\"><span class=\"mars-s\">227,943,824 km</span></td><td class=\"column-3\"><span class=\"earth-s\">149,598,262 km</span></td></tr><tr class=\"row-6\"><td class=\"column-1\">Length of Year:</td><td class=\"column-2\"><span class=\"mars-s\">687 Earth days</span></td><td class=\"column-3\"><span class=\"earth-s\">365.24 days</span></td></tr><tr class=\"row-7\"><td class=\"column-1\">Temperature:</td><td class=\"column-2\"><span class=\"mars-s\">-153 to 20 °C</span></td><td class=\"column-3\"><span class=\"earth-s\">-88 to 58°C</span></td></tr></tbody></table>"
      ]
     },
     "metadata": {},
     "output_type": "display_data"
    }
   ],
   "source": [
    "# Convert html to HTML table string\n",
    "mars_facts_table = display_html(mars_facts_info, raw=True)\n",
    "mars_facts_table"
   ]
  },
  {
   "cell_type": "code",
   "execution_count": null,
   "metadata": {},
   "outputs": [],
   "source": [
    "#source_HTML Table to Pandas: https://beenje.github.io/blog/posts/parsing-html-tables-in-python-with-pandas/"
   ]
  },
  {
   "cell_type": "markdown",
   "metadata": {},
   "source": [
    "### Mars Hempispheres  - Extract Children of an HTML Parent Element"
   ]
  },
  {
   "cell_type": "code",
   "execution_count": 122,
   "metadata": {},
   "outputs": [],
   "source": [
    "mars_hempispheres_url = 'https://www.usgs.gov/media/images/valles-marineris-mars'\n",
    "browser.visit(mars_hempispheres_url)"
   ]
  },
  {
   "cell_type": "code",
   "execution_count": 123,
   "metadata": {},
   "outputs": [],
   "source": [
    "html = browser.html\n",
    "soup = BeautifulSoup(html, 'html.parser')"
   ]
  },
  {
   "cell_type": "code",
   "execution_count": 129,
   "metadata": {},
   "outputs": [
    {
     "data": {
      "text/plain": [
       "<div class=\"field field-name-scald-thumbnail field-type-image field-label-hidden\"><div class=\"field-items\"><div class=\"field-item even\"><img alt=\"Valles Marineris on Mars\" class=\"img-responsive\" height=\"361\" src=\"https://prd-wret.s3-us-west-2.amazonaws.com/assets/palladium/production/s3fs-public/styles/full_width/public/thumbnails/image/valles_marineris_enhanced.jpg\" width=\"1140\"/></div></div></div>"
      ]
     },
     "execution_count": 129,
     "metadata": {},
     "output_type": "execute_result"
    }
   ],
   "source": [
    "mars_hempisphere = soup.find('div', {\"class\":'field-name-scald-thumbnail'})\n",
    "mars_hempisphere"
   ]
  },
  {
   "cell_type": "code",
   "execution_count": 132,
   "metadata": {},
   "outputs": [
    {
     "name": "stdout",
     "output_type": "stream",
     "text": [
      "---results----\n",
      "https://prd-wret.s3-us-west-2.amazonaws.com/assets/palladium/production/s3fs-public/styles/full_width/public/thumbnails/image/valles_marineris_enhanced.jpg\n",
      "Valles Marineris on Mars\n"
     ]
    }
   ],
   "source": [
    "## I could get both contents from the img element, but since I think the objective \n",
    "\n",
    "for results in mars_hempisphere: \n",
    "    img_url = mars_hempisphere.find('img')['src']\n",
    "    title = mars_hempisphere.find('img')['alt']\n",
    "\n",
    "print('---results----')\n",
    "print(img_url)\n",
    "print(title)"
   ]
  },
  {
   "cell_type": "code",
   "execution_count": 133,
   "metadata": {},
   "outputs": [
    {
     "data": {
      "text/plain": [
       "[{'Title': 'Valles Marineris on Mars',\n",
       "  'img_url': 'https://prd-wret.s3-us-west-2.amazonaws.com/assets/palladium/production/s3fs-public/styles/full_width/public/thumbnails/image/valles_marineris_enhanced.jpg'}]"
      ]
     },
     "execution_count": 133,
     "metadata": {},
     "output_type": "execute_result"
    }
   ],
   "source": [
    "# append results into a dict\n",
    "hemisphere_image_urls = [ {\"Title\": title, \"img_url\": img_url} ] \n",
    "hemisphere_image_urls"
   ]
  },
  {
   "cell_type": "code",
   "execution_count": null,
   "metadata": {},
   "outputs": [],
   "source": []
  }
 ],
 "metadata": {
  "kernelspec": {
   "display_name": "Python 3",
   "language": "python",
   "name": "python3"
  },
  "language_info": {
   "codemirror_mode": {
    "name": "ipython",
    "version": 3
   },
   "file_extension": ".py",
   "mimetype": "text/x-python",
   "name": "python",
   "nbconvert_exporter": "python",
   "pygments_lexer": "ipython3",
   "version": "3.7.3"
  }
 },
 "nbformat": 4,
 "nbformat_minor": 2
}
