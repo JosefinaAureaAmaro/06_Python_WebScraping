{
 "cells": [
  {
   "cell_type": "markdown",
   "metadata": {},
   "source": [
    "### Dependencies"
   ]
  },
  {
   "cell_type": "code",
   "execution_count": 39,
   "metadata": {},
   "outputs": [],
   "source": [
    "#Beautiful Soup\n",
    "from bs4 import BeautifulSoup\n",
    "\n",
    "#Pandas\n",
    "import pandas as pd\n",
    "\n",
    "#Splinter - Web Scrapping\n",
    "from splinter import Browser\n",
    "from splinter.exceptions import ElementDoesNotExist\n",
    "\n",
    "# data dependencies\n",
    "from datetime import datetime"
   ]
  },
  {
   "cell_type": "markdown",
   "metadata": {},
   "source": [
    "### To use splinter"
   ]
  },
  {
   "cell_type": "code",
   "execution_count": 12,
   "metadata": {},
   "outputs": [],
   "source": [
    "executable_path = {'executable_path': 'chromedriver.exe'}\n",
    "browser = Browser('chrome', **executable_path, headless=False)"
   ]
  },
  {
   "cell_type": "markdown",
   "metadata": {},
   "source": [
    "To use ChromeDriver I had to perform two actions: \n",
    "\n",
    "1. Extract the chromdriver.exe and place it in the same folder as my project\n",
    "2. Update the version of chrome I had to version of chromedriver.exe I downloaded "
   ]
  },
  {
   "cell_type": "markdown",
   "metadata": {},
   "source": [
    "Notes about selenium and splinter: \n",
    "\n",
    "Selenium allows you to loop through a website by element. \n",
    "It automates any manual input as well as coordinating through pages"
   ]
  },
  {
   "cell_type": "markdown",
   "metadata": {},
   "source": [
    "### Start to Webscrape"
   ]
  },
  {
   "cell_type": "code",
   "execution_count": 13,
   "metadata": {},
   "outputs": [],
   "source": [
    "url = 'https://mars.nasa.gov/news/'\n",
    "browser.visit(url)"
   ]
  },
  {
   "cell_type": "code",
   "execution_count": 14,
   "metadata": {},
   "outputs": [],
   "source": [
    "html = browser.html\n",
    "soup = BeautifulSoup(html, 'html.parser')"
   ]
  },
  {
   "cell_type": "markdown",
   "metadata": {},
   "source": [
    "### Test Environment"
   ]
  },
  {
   "cell_type": "code",
   "execution_count": 36,
   "metadata": {},
   "outputs": [],
   "source": [
    "# we are starting at the upper container of the articles to iterate through\n",
    "\n",
    "# Retrive the parent divs for all articles\n",
    "article_results = soup.find_all('li', class_=\"slide\")\n"
   ]
  },
  {
   "cell_type": "code",
   "execution_count": 66,
   "metadata": {},
   "outputs": [
    {
     "name": "stdout",
     "output_type": "stream",
     "text": [
      "['MEDLI2 Installation on Mars 2020 Aeroshell Begins', \"NASA's Mars 2020 Rover Does Biceps Curls \", \"Fueling of NASA's Mars 2020 Rover Power System Begins\", 'What Does a Marsquake Look Like?', 'Mars 2020 Rover: T-Minus One Year and Counting ', 'NASA Racks Up Two Emmy Nominations for Mission Coverage', 'Want to Colonize Mars? Aerogel Could Help', 'A Rover Pit Stop at JPL', 'Mars 2020 Rover Gets a Super Instrument', 'A Neil Armstrong for Mars: Landing the Mars 2020 Rover', \"NASA's InSight Uncovers the 'Mole' \", \"Mars 2020 Rover's 7-Foot-Long Robotic Arm Installed\", \"NASA Selects Partners for Mars 2020 'Name the Rover' Contest, Seeks Judges\", \"Curiosity's Mars Methane Mystery Continues\", 'Mars 2020 Rover Gets Its Wheels', \"The Mast Is Raised for NASA's Mars 2020 Rover\", \"NASA's Mars 2020 Will Blaze a Trail — for Humans\", 'Johnson-Built Device to Help Mars 2020 Rover Search for Signs of Life', 'Watch NASA Build Its Next Mars Rover', \"NASA's Mars Helicopter Testing Enters Final Phase\", \"InSight's Team Tries New Strategy to Help the 'Mole'\", \"Common Questions about InSight's 'Mole'\", \"NASA's Curiosity Mars Rover Finds a Clay Cache\", 'NASA to Land in Mars, Pennsylvania to Celebrate Red Planet with STEAM', \"NASA's Mars 2020 Gets a Dose of Space Here on Earth\", 'NASA Invites Public to Submit Names to Fly Aboard Next Mars Rover', \"NASA's MRO Completes 60,000 Trips Around Mars\", 'Video: Fly over Mount Sharp on Mars', 'Why This Martian Full Moon Looks Like Candy', 'For InSight, Dust Cleanings Will Yield New Science', 'InSight Captures Sunrise and Sunset on Mars', 'NASA Social Media and Websites Win Webby Awards ', \"NASA's InSight Detects First Likely 'Quake' on Mars\", \"Things Are Stacking up for NASA's Mars 2020 Spacecraft\", \"Curiosity Tastes First Sample in 'Clay-Bearing Unit'\", \"More Testing for Mars InSight's 'Mole'\", 'NASA Garners 7 Webby Award Nominations', 'Curiosity Captured Two Solar Eclipses on Mars', \"NASA's Mars Helicopter Completes Flight Tests\", 'Asteroids, Hydrogen Make Great Recipe for Life on Mars']\n",
      "[\"Hardware installed onto NASA's Mars 2020 entry vehicle this week will help to increase the safety of future Mars landings.\", \"In this time-lapse video, the robotic arm on NASA's Mars 2020 rover maneuvers its 88-pound (40-kilogram) sensor-laden turret as it moves from a deployed to stowed configuration.\", \"NASA gives the go-ahead to fuel the Mars 2020 rover's Multi-Mission Radioisotope Thermoelectric Generator, which will power rover and help keep it warm while exploring Mars.\", 'InSight scientists used a special \"shake room\" to demonstrate the differences between quakes on Earth, the Moon and Mars.', \"The launch period for NASA's next rover, Mars 2020, opens exactly one year from today, July 17, 2020, and extends through Aug. 5, 2020.\", \"JPL's coverage of the Mars InSight mission is among the efforts that will be up for an award in mid-September.\", 'Researchers are studying whether a wonder material used in Mars rovers could help warm parts of the Red Planet rich in water ice.', \"Working like a finely honed machine, a team of engineers in this time-lapse video clip install test wheels on another finely honed machine: NASA's Mars 2020 rover.\", 'With its rock-zapping laser, the SuperCam will enable the science team to identify the chemical and mineral makeup of its targets on the Red Planet.', \"NASA's newest rover will have an autopilot called Terrain-Relative Navigation.\", \"The lander's robotic arm has successfully removed a piece of hardware blocking the view of its digging device in order to help with recovery efforts.\", \"The main robotic arm has been installed on NASA's newest rover. When complete, the arm will enable the rover to hold and use science tools like a human geologist would.\", 'The contest for U.S. schoolchildren will open in fall 2019, but judges can sign up now.', 'The Curiosity rover’s follow-on sampling shows last week’s methane levels have sharply decreased.', \"With the mobility suspension in place, the rover not only looks more like a rover but has many of its 'big-ticket items' installed.\", 'Engineers at JPL take a group selfie after attaching the remote sensing mast to the Mars 2020 rover.', 'The next robotic Mars mission will carry technology that will help enable astronauts to eventually explore the Red Planet.', 'NASA’s Johnson Space Center (JSC) recently built a new calibration device for the rover to check SHERLOC’s function and properly tune it during the upcoming mission.', \"A newly installed webcam offers the public a live, bird's-eye view of NASA's Mars 2020 rover as it takes shape at NASA's Jet Propulsion Laboratory. \", \"NASA's Mars Helicopter flight demonstration project has passed a number of key tests with flying colors.\", \"The spacecraft's robotic arm will lift the heat probe's support structure, providing a better look at the instrument that has been trying to burrow into the Martian surface.\", 'There\\'s a new plan to get InSight\\'s \"mole\" moving again. The following Q&As with two members of the team answer some of the most common questions about the burrowing device, part of a science instrument called the Heat Flow and Physical Properties Package (HP3).', 'The rover recently drilled two samples, and both showed the highest levels of clay ever found during the mission.', 'NASA returns to Mars, Pennsylvania Friday, May 31 to celebrate Mars exploration and share the agency’s excitement about landing astronauts on the Moon in five years.', \"NASA's Mars 2020 spacecraft has completed tests that are the best Earthly approximations of what the spacecraft will endure during launch and interplanetary cruise.\", 'From now till Sept. 30, the public can submit names to be stenciled on chips that will fly on the Mars 2020 rover and receive a souvenir boarding pass.', 'The orbiting spacecraft is also about to set a record for data relayed from the Martian surface.', \"A new animation shows the region NASA's Curiosity rover is currently exploring and where its team wants to go in the future.\", \"For the first time, NASA's Mars Odyssey orbiter has caught the Martian moon Phobos during a full moon phase. Each color in this new image represents a temperature range detected by Odyssey's infrared camera.\", 'Wind can be crucial to clearing dust from spacecraft solar panels on Mars. With InSight\\'s meteorological sensors, scientists get their first measurements of wind and dust interacting \"live\" on the Martian surface.  ', \"InSight joins the rest of NASA's Red Planet surface missions, all of which have photographed either the start or end of a Martian day.\", 'NASA\\'s social media presence, the InSight mission social media accounts, NASA.gov and SolarSystem.NASA.gov will be honored at the 2019 Webby Awards - \"the Oscars of the Internet.\"', 'While their causes are still unknown, one of three shaking events looks a lot like the quakes detected on the Moon by the Apollo missions.', 'As the July 2020 launch date inches closer, the next spacecraft headed to the Red Planet is assembled for more testing.', 'This new region on Mars might reveal more about the role of water on Mount Sharp.', \"After the mission's heat probe began hammering last week, it appears to have hit a rock. The team is analyzing data before they hammer again.\", 'Nominees include four JPL projects: the solar system and climate websites, InSight social media, and a 360-degree Earth video. Public voting closes April 18, 2019.', 'Observing the Martian moons Phobos and Deimos crossing in front of the Sun helps scientists better understand their orbits.', 'The first helicopter to fly on Mars had its first flight on Earth.', 'Laser blasts in lab tests suggest asteroid bombardment could have provided key ingredients for life on ancient Mars.']\n"
     ]
    }
   ],
   "source": [
    "# Loop through results to retrieve article title, header, and timestamp of article\n",
    "article_title = []\n",
    "article_headline = []\n",
    "\n",
    "\n",
    "## articles are posted in chronological order, with the latest articles at the top. \n",
    "## I want to stop the loop after 2018\n",
    "\n",
    "for results in article_results:\n",
    "    title = results.find(attrs={\"class\": \"content_title\"}).text\n",
    "    headline = results.find(attrs={\"class\": \"article_teaser_body\"}).text\n",
    "    date_of_article = results.find(attrs={\"class\": \"list_date\"}).text\n",
    "    \n",
    "    # to convert date of article to datetime object\n",
    "    date_object = datetime.strptime(date_of_article, '%B %d, %Y')\n",
    "\n",
    "        ## conditional loop to append articles\n",
    "        \n",
    "    if date_object.year == 2019:\n",
    "        article_title.append(title)\n",
    "        article_headline.append(headline)\n",
    "#browser.click_link_by_partial_text('More')\n",
    "        \n",
    "    #elif date_object.year == 2017:\n",
    "      #  print('Done')\n",
    "      #  break\n",
    "    \n",
    "        \n",
    "            \n",
    "print(article_title)\n",
    "print(article_headline)\n",
    "    "
   ]
  },
  {
   "cell_type": "code",
   "execution_count": null,
   "metadata": {},
   "outputs": [],
   "source": []
  },
  {
   "cell_type": "code",
   "execution_count": 38,
   "metadata": {},
   "outputs": [
    {
     "data": {
      "text/plain": [
       "str"
      ]
     },
     "execution_count": 38,
     "metadata": {},
     "output_type": "execute_result"
    }
   ],
   "source": [
    "type(year_of_article)"
   ]
  },
  {
   "cell_type": "code",
   "execution_count": null,
   "metadata": {},
   "outputs": [],
   "source": []
  }
 ],
 "metadata": {
  "kernelspec": {
   "display_name": "Python 3",
   "language": "python",
   "name": "python3"
  },
  "language_info": {
   "codemirror_mode": {
    "name": "ipython",
    "version": 3
   },
   "file_extension": ".py",
   "mimetype": "text/x-python",
   "name": "python",
   "nbconvert_exporter": "python",
   "pygments_lexer": "ipython3",
   "version": "3.7.3"
  }
 },
 "nbformat": 4,
 "nbformat_minor": 2
}
